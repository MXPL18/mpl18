{
 "cells": [
  {
   "cell_type": "markdown",
   "metadata": {},
   "source": [
    "# Should I stay in U.S ? Let's anylisis the unemploy rate"
   ]
  },
  {
   "cell_type": "code",
   "execution_count": null,
   "metadata": {},
   "outputs": [],
   "source": [
    "%matplotlib inline\n",
    "\n",
    "import matplotlib.pyplot as plt\n",
    "\n",
    "plt.plot()\n",
    "plt.show()"
   ]
  },
  {
   "cell_type": "code",
   "execution_count": 2,
   "metadata": {},
   "outputs": [
    {
     "name": "stdout",
     "output_type": "stream",
     "text": [
      "0      1948/1/1\n",
      "1      1948/2/1\n",
      "2      1948/3/1\n",
      "3      1948/4/1\n",
      "4      1948/5/1\n",
      "5      1948/6/1\n",
      "6      1948/7/1\n",
      "7      1948/8/1\n",
      "8      1948/9/1\n",
      "9     1948/10/1\n",
      "10    1948/11/1\n",
      "11    1948/12/1\n",
      "Name: DATE, dtype: object\n",
      "0     3.4\n",
      "1     3.8\n",
      "2     4.0\n",
      "3     3.9\n",
      "4     3.5\n",
      "5     3.6\n",
      "6     3.6\n",
      "7     3.9\n",
      "8     3.8\n",
      "9     3.7\n",
      "10    3.8\n",
      "11    4.0\n",
      "Name: UNRATE, dtype: float64\n",
      "[datetime.datetime(1948, 1, 1, 0, 0), datetime.datetime(1948, 2, 1, 0, 0), datetime.datetime(1948, 3, 1, 0, 0), datetime.datetime(1948, 4, 1, 0, 0), datetime.datetime(1948, 5, 1, 0, 0), datetime.datetime(1948, 6, 1, 0, 0), datetime.datetime(1948, 7, 1, 0, 0), datetime.datetime(1948, 8, 1, 0, 0), datetime.datetime(1948, 9, 1, 0, 0), datetime.datetime(1948, 10, 1, 0, 0), datetime.datetime(1948, 11, 1, 0, 0), datetime.datetime(1948, 12, 1, 0, 0)]\n"
     ]
    },
    {
     "data": {
      "image/png": "[encoded data removed]",
      "text/plain": [
       "<matplotlib.figure.Figure at 0x110310550>"
      ]
     },
     "metadata": {},
     "output_type": "display_data"
    }
   ],
   "source": [
    "%matplotlib inline\n",
    "import pandas\n",
    "import matplotlib.pyplot as plt\n",
    "import datetime\n",
    "\n",
    "unrate=pandas.read_csv(\"UNRATE.csv\")\n",
    "#print(type(unrate))\n",
    "\n",
    "#f = open('mysongs.csv', 'r')\n",
    "#data = f.read()\n",
    "#rows = data.split('\\n')\n",
    "#songs=[]\n",
    "#for row in rows:\n",
    "#    song=row.split(',')\n",
    "#    songs.append(song)\n",
    "#print(songs)\n",
    "\n",
    "#songname is xaxis，song[0]\n",
    "#song[1] is data\n",
    "\n",
    "#xaxis=[\"2017/1/1\",\"2017/2/1\",\"2017/3/1\",\"2017/4/1\",\"2017/5/1\",\"2017/6/1\",\"2017/7/1\",\"2017/8/1\",\"2017/9/1\",\"2017/10/1\",\"2017/11/1\",\"2017/12/1\"]\n",
    "xaxis=[\"2017/1/1\",\"2017/1/2\",\"2017/1/3\",\"2017/1/4\",\"2017/1/5\",\"2017/1/6\",\"2017/1/7\",\"2017/1/8\",\"2017/1/9\",\"2017/1/10\",\"2017/1/11\",\"2017/1/12\"]\n",
    "data=[1,3,5,7,3,1,2,5,10,9,11,62]\n",
    "\n",
    "first_twelve=unrate[0:12]\n",
    "xaxis=first_twelve['DATE']\n",
    "data=first_twelve['UNRATE']\n",
    "print(xaxis)\n",
    "print(data)\n",
    "\n",
    "date_time=[]\n",
    "for xax in xaxis:\n",
    "    date = datetime.datetime.strptime(xax,'%Y/%m/%d')\n",
    "    date_time.append(date)\n",
    "print(date_time)\n",
    "plt.plot(date_time,first_twelve['UNRATE'])\n",
    "#plt.plot(xaxis,data)\n",
    "#plt.plot()\n",
    "plt.xticks(rotation=90)\n",
    "plt.show()\n",
    "\n"
   ]
  },
  {
   "cell_type": "code",
   "execution_count": null,
   "metadata": {},
   "outputs": [],
   "source": []
  },
  {
   "cell_type": "code",
   "execution_count": null,
   "metadata": {},
   "outputs": [],
   "source": []
  }
 ],
 "metadata": {
  "kernelspec": {
   "display_name": "Python 3",
   "language": "python",
   "name": "python3"
  },
  "language_info": {
   "codemirror_mode": {
    "name": "ipython",
    "version": 3
   },
   "file_extension": ".py",
   "mimetype": "text/x-python",
   "name": "python",
   "nbconvert_exporter": "python",
   "pygments_lexer": "ipython3",
   "version": "3.6.0"
  }
 },
 "nbformat": 4,
 "nbformat_minor": 2
}
