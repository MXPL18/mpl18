{
 "cells": [
  {
   "cell_type": "markdown",
   "metadata": {},
   "source": [
    "# Should I stay in US? Let's anlysis the unemploy rate.'"
   ]
  },
  {
   "cell_type": "markdown",
   "metadata": {},
   "source": [
    "#Should I stay in US? Let's anlysis the unemploy rate.'"
   ]
  },
  {
   "cell_type": "code",
   "execution_count": 3,
   "metadata": {},
   "outputs": [
    {
     "data": {
      "image/png": "[encoded data removed]",
      "text/plain": [
       "<matplotlib.figure.Figure at 0xeced12e860>"
      ]
     },
     "metadata": {},
     "output_type": "display_data"
    }
   ],
   "source": [
    "import matplotlib.pyplot as plt\n",
    "import datetime\n",
    "f = open('UNRATE.csv', 'r')\n",
    "data = f.read()\n",
    "rows = data.split('\\n')\n",
    "date_time=[]\n",
    "for row in rows:\n",
    "    date=row.split(',')\n",
    "    date_time.append(date)\n",
    "xaxis=[\"2017/1/1\",\"2017/2/1\",\"2017/3/1\",\"2017/4/1\",\"2017/5/1\",\"2017/6/1\",\"2017/7/1\",\"2017/8/1\",\"2017/9/1\",\"2017/10/1\",\"2017/11/1\",\"2017/12/1\"]\n",
    "#xaxis=[\"2017/1/1\",\"2017/1/2\",\"2017/1/3\",\"2017/1/4\",\"2017/1/5\",\"2017/1/6\",\"2017/1/7\",\"2017/1/8\",\"2017/1/9\",\"2017/1/10\",\"2017/1/11\",\"2017/1/12\"]\n",
    "data=[1,3,5,7,3,1,2,5,10,9,11,62]\n",
    "date_time=[]\n",
    "for xax in xaxis:\n",
    "    date = datetime.datetime.strptime(xax,'%Y/%m/%d')\n",
    "    date_time.append(date)\n",
    "#print(date_time)\n",
    "plt.plot(date_time,data)\n",
    "#plt.plot(xaxis,data)\n",
    "#plt.plot()\n",
    "plt.xticks(rotation=90)\n",
    "plt.show()"
   ]
  },
  {
   "cell_type": "code",
   "execution_count": null,
   "metadata": {},
   "outputs": [],
   "source": []
  }
 ],
 "metadata": {
  "kernelspec": {
   "display_name": "Python 3",
   "language": "python",
   "name": "python3"
  },
  "language_info": {
   "codemirror_mode": {
    "name": "ipython",
    "version": 3
   },
   "file_extension": ".py",
   "mimetype": "text/x-python",
   "name": "python",
   "nbconvert_exporter": "python",
   "pygments_lexer": "ipython3",
   "version": "3.6.3"
  }
 },
 "nbformat": 4,
 "nbformat_minor": 2
}
