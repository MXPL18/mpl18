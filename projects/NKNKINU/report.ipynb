{
 "cells": [
  {
   "cell_type": "markdown",
   "metadata": {},
   "source": [
    "# final report"
   ]
  },
  {
   "cell_type": "markdown",
   "metadata": {},
   "source": [
    "# 目标 \n",
    "我们的目标是使用mixly和python编写出一个程序，制作出能发声、发光、电风扇转动的风车。"
   ]
  },
  {
   "cell_type": "markdown",
   "metadata": {},
   "source": [
    "# 过程\n",
    "![Alt text](dfsx.jpg)\n",
    "我先使用电子积木搭建出一个如图的装置。然后修改老师的python程序，直到能够运行。代码如下。\n",
    "![Alt text](jyfyjbkj.jpg)\n",
    "![Alt text](srhr.png)\n",
    "![Alt text](sefssdcz.png)"
   ]
  },
  {
   "cell_type": "code",
   "execution_count": null,
   "metadata": {},
   "outputs": [
    {
     "name": "stdout",
     "output_type": "stream",
     "text": [
      "hello\n",
      "[<serial.tools.list_ports_common.ListPortInfo object at 0x000001C5B7373E80>]\n",
      "USB-SERIAL CH340 (COM3)\n",
      "['tinkelstar,1,2,5,5,6,6,5,5,4,start_fan,4,3,3,2,2,stop_fan,1,1', 'dadaotuhao,1,2,3,1,1,2,3,1,start_LED,3,4,5,3,4,5,stop_LED,5,6,5,4,3,1,2,1,1', 'RadetzkyMarsch,4,4,4,4,4,4,4,3,2,1,7,6,7,1,2,7,5', 'RadetzkyMarsch2,4,3,4,4,3,4,4,3,4,3,2,6,5,6,6,5,6,6,4,5,7,6,4,3,4,3,2,3,2,1,7,6,5,4,3,2,2,2,', 'xjbsong,1,4,4,5,7,2,7,3,6,3,7,5,2,4,6,2,5,3,6,3,6,2,1']\n",
      "[['tinkelstar', '1', '2', '5', '5', '6', '6', '5', '5', '4', 'start_fan', '4', '3', '3', '2', '2', 'stop_fan', '1', '1'], ['dadaotuhao', '1', '2', '3', '1', '1', '2', '3', '1', 'start_LED', '3', '4', '5', '3', '4', '5', 'stop_LED', '5', '6', '5', '4', '3', '1', '2', '1', '1'], ['RadetzkyMarsch', '4', '4', '4', '4', '4', '4', '4', '3', '2', '1', '7', '6', '7', '1', '2', '7', '5'], ['RadetzkyMarsch2', '4', '3', '4', '4', '3', '4', '4', '3', '4', '3', '2', '6', '5', '6', '6', '5', '6', '6', '4', '5', '7', '6', '4', '3', '4', '3', '2', '3', '2', '1', '7', '6', '5', '4', '3', '2', '2', '2', ''], ['xjbsong', '1', '4', '4', '5', '7', '2', '7', '3', '6', '3', '7', '5', '2', '4', '6', '2', '5', '3', '6', '3', '6', '2', '1'], ['clash royale5', '6', '5', '4', '3', '4', '5', '2', '3', '4', '3', '4', '5'], ['']]\n",
      "songname is tinkelstar\n",
      "songname is dadaotuhao\n",
      "songname is RadetzkyMarsch\n",
      "songname is RadetzkyMarsch2\n",
      "songname is xjbsong\n",
      "songname is clash royale5\n",
      "songname is \n",
      "{'tinkelstar': 0, 'dadaotuhao': 1, 'RadetzkyMarsch': 2, 'RadetzkyMarsch2': 3, 'xjbsong': 4, 'clash royale5': 5, '': 6}\n",
      "select 1.input song sequence, number,select 2 , input song namen , q and others for quit\n"
     ]
    }
   ],
   "source": [
    "import serial\n",
    "import serial.tools.list_ports\n",
    "import time\n",
    "\n",
    "\n",
    "\n",
    "def get_song_dictionary(input_lst):\n",
    "    dictionary={}\n",
    "    for i in range(len(songs)):\n",
    "        song=songs[i]\n",
    "        dictionary[song[0]]=i\n",
    "    return dictionary\n",
    "\n",
    "print ('hello')\n",
    "ports = list(serial.tools.list_ports.comports())\n",
    "print (ports)\n",
    "for p in ports:\n",
    "    print (p[1])\n",
    "    if \"SERIAL\" in p[1] or \"Serial\" in p[1]:\n",
    "\t    ser=serial.Serial(port=p[0])\n",
    "    else :\n",
    "\t    print (\"No Arduino Device was found connected to the computer\")\n",
    "\n",
    "song1 = ['star','1','1','5','5','6','6','5','5','4','4','3','3','2','2','1','1']\n",
    "song2 = ['hallo','1','2','3','1','1','2','3','1','3','4','5','3','4','5']\n",
    "\n",
    "f = open('mysongs.csv', 'r')\n",
    "data = f.read()\n",
    "rows = data.split('\\n')\n",
    "print(rows[0:5])\n",
    "\n",
    "songs=[]\n",
    "for row in rows:\n",
    "    song=row.split(',')\n",
    "    songs.append(song)\n",
    "print(songs)\n",
    "\n",
    "album={}\n",
    "album[\"tinkelstar\"]=0\n",
    "n=0\n",
    "for song in songs:\n",
    "    songname=song[0]\n",
    "    print(\"songname is %s\" %(songname))\n",
    "    album[songname]=n\n",
    "    n=n+1\n",
    "print(album)\n",
    "\n",
    "dic={\"start_LED\":'43',\"stop_LED\":'44',\"start_fan\":\"41\",\"stop_fan\":'42'}\n",
    "\n",
    "#songs_dictionary={'tinklestar':1,'dadaotuhao':2,'RadetzkyMarsch':3,'xjbsong':4,'clash royale':5}\n",
    "songs_dictionary=get_song_dictionary(songs)\n",
    "\n",
    "#song_dic={'tinkelstar':1,'dadaotuhao':2,'RadetzkyMarsch':3,'RadetzkyMarsch2':4,'xjbsong':5,'clash royale':6}\n",
    "#ser=serial.Serial(port='COM4')\n",
    "#ser=serial.Serial(port]='/dev/ttymodem542')\n",
    "#ifha;oifhad;oifh\n",
    "def run():\n",
    "\n",
    "    action = \"empty\"\n",
    "    while action != \"q\":\n",
    "        print ('select 1.input song sequence, number,select 2 , input song namen , q and others for quit')\n",
    "        action = input(\"> \")\n",
    "        if action=='1' :\n",
    "            print ('select in which song do you want to play:for example：1,2,3,4,5, q and others for quit')\n",
    "            song_number = int(input(\"> \"))\n",
    "            print(\"song number is:\")\n",
    "            print(song_number)\n",
    "            for notes in songs[song_number]:\n",
    "                if notes.isdigit():\n",
    "                    ser.write(notes.encode())\n",
    "                    print (\"send:\"+notes)\n",
    "                    print('A')\n",
    "                    time.sleep(1)\n",
    "                else:\n",
    "                    if notes in dic:\n",
    "                        s_notes=dic[notes]\n",
    "                        print(s_notes)\n",
    "                        ser.write(s_notes.encode())\n",
    "                        print (\"send:\"+s_notes)\n",
    "                        print('A')\n",
    "        elif action == \"2\":\n",
    "            print ('select in which song do you want to play:tinklestar,dadaotuhao,RadetzkyMarsch,xjbsong,clash royale,q and others for quit')\n",
    "            song_name = input(\"> \")\n",
    "            print(\"songs name is:\")\n",
    "            print(song_name)\n",
    "            song_number=songs_dictionary[song_name]\n",
    "            print(\"song number is:\")\n",
    "            print(song_number)\n",
    "            for notes in songs[song_number-1]:\n",
    "                ser.write(notes.encode())\n",
    "                print (\"send:\"+notes)\n",
    "                time.sleep(1)\n",
    "        else :\n",
    "            return\n",
    "run()\n"
   ]
  },
  {
   "cell_type": "markdown",
   "metadata": {},
   "source": [
    "# 结果\n",
    "风车能发声、发光、转动。甚至还能完整地演奏一首曲子。\n",
    "![Alt text](sejs.jpg)"
   ]
  },
  {
   "cell_type": "markdown",
   "metadata": {},
   "source": [
    "# 讨论\n",
    "在一开始我的电机无法运行，在经过一系列地修改字典后，我终于成功了。但是，它演奏出来的音月空档都相同，无法体现较复杂的音乐。将来，我希望能通过更完整的代码，使它能演奏更完美的音乐。"
   ]
  }
 ],
 "metadata": {
  "kernelspec": {
   "display_name": "Python 3",
   "language": "python",
   "name": "python3"
  },
  "language_info": {
   "codemirror_mode": {
    "name": "ipython",
    "version": 3
   },
   "file_extension": ".py",
   "mimetype": "text/x-python",
   "name": "python",
   "nbconvert_exporter": "python",
   "pygments_lexer": "ipython3",
   "version": "3.6.3"
  }
 },
 "nbformat": 4,
 "nbformat_minor": 2
}
