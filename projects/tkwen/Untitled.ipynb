{
 "cells": [
  {
   "cell_type": "markdown",
   "metadata": {},
   "source": [
    "# Report of Musical Windmill  谭凯文\n"
   ]
  },
  {
   "cell_type": "markdown",
   "metadata": {},
   "source": [
    "# Goal\n",
    "  The goal of the project is to build a music windmill and program it. The windmill has to play the music according to the music score we wrote. It also need to light up and rotate.\n"
   ]
  },
  {
   "cell_type": "markdown",
   "metadata": {},
   "source": [
    "# Process\n",
    "  The process of the project can be mainly divided into 2 parts: buling up the windmill, and programming. To build up the windmill, we use \"ITTY BITTY CITY\" to make a simple windmill with a LED light, a buzzer and a electrical machine one it. Then we use mixly to program it. The program in mixly is as follows. It enables the windmill to play different musical notes, rotate or light up based on the order it receives. \n",
    "  ![program_in_mixly](xxx.png)\n",
    "  The next step is to write a program in atom. The program need to read the input of both number of song score, but also the song name. In order to do this, we have to use the function of \"dictionaty\" and \"function\". Because the code can only connect one number to one song, not one word to one song, so we create a function which turns the input song name into corresponding song number. This process allows us to input both song number and song name to get a some. The program is as follows.\n",
    "  ![program_in_atom](xxxx.png)\n",
    "  ![program_in_atom_2](xx.png)\n",
    " \n",
    "  \n",
    " "
   ]
  },
  {
   "cell_type": "markdown",
   "metadata": {},
   "source": [
    "# Result\n",
    "  Due to the short of time, we have not bulid a complete windmill. Instead, we just build a easy model with LED light, buzzer and electricity machine on it. Then we test the program for times till it can work in the right way. The final result is an easy windmill which can play several songs. It can also rotate and light up. But the windmill can only play simple music, which means it can only play one musical note at one time, and all the musical notes last for the same time.\n",
    "  ![result](IMG_1290.jpg)"
   ]
  },
  {
   "cell_type": "markdown",
   "metadata": {},
   "source": [
    "# Discussion\n",
    "  Although the final result does work, it can still improve in some aspect. Firstly, the windmill we build is not complete. Secondly, the songs the windmill play are too simple. By using the function of split, we can actually make the song more complex with different musical note lengthes, but this time, we have not enough time to do this. "
   ]
  },
  {
   "cell_type": "code",
   "execution_count": null,
   "metadata": {},
   "outputs": [],
   "source": []
  }
 ],
 "metadata": {
  "kernelspec": {
   "display_name": "Python 3",
   "language": "python",
   "name": "python3"
  },
  "language_info": {
   "codemirror_mode": {
    "name": "ipython",
    "version": 3
   },
   "file_extension": ".py",
   "mimetype": "text/x-python",
   "name": "python",
   "nbconvert_exporter": "python",
   "pygments_lexer": "ipython3",
   "version": "3.6.4"
  }
 },
 "nbformat": 4,
 "nbformat_minor": 2
}
